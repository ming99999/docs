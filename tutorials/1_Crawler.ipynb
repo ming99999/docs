{
 "cells": [
  {
   "cell_type": "markdown",
   "id": "3d8238a8-316b-4de2-b544-f12f1e4b8372",
   "metadata": {},
   "source": [
    "## 1. Crawler\n",
    "\n",
    "### 목표\n",
    "- Crawling을 통한 텍스트 데이터 확보\n",
    "- html 파싱 (불필요한 데이터 제거)\n",
    "- 정리된 데이터를 DB에 저장"
   ]
  },
  {
   "cell_type": "code",
   "execution_count": 1,
   "id": "7a5a2642-6993-4bff-9eb3-6ee37e627d67",
   "metadata": {},
   "outputs": [],
   "source": [
    "import os, sys\n",
    "\n",
    "file_dir_path = os.path.abspath('')\n",
    "util_dir_path = '/'.join(file_dir_path.split('/')[:-1]) + '/git'\n",
    "\n",
    "sys.path.insert(0, util_dir_path + '/naver_news_search_scraper')\n",
    "sys.path.insert(0, util_dir_path + '/naver_news_search_scraper/naver_news_search_crawler')"
   ]
  },
  {
   "cell_type": "code",
   "execution_count": 2,
   "id": "8b1bf4a1-ffb5-4376-b92a-8eacdad38de8",
   "metadata": {},
   "outputs": [],
   "source": [
    "#from search_crawler2 import get_article_urls as cw\n",
    "#cw(\"도쿄올림픽 야구\", \"2021-07-23\")\n",
    "from search_crawler import *\n",
    "#get_page_num(\"도쿄올림픽 야구\", \"2021-07-23\")\n",
    "#al = get_article_urls(\"도쿄올림픽 야구\", \"2021-07-23\", debug = False)"
   ]
  },
  {
   "cell_type": "code",
   "execution_count": 3,
   "id": "decf6a50-0eaf-4ed3-92f8-6846d29aa85a",
   "metadata": {},
   "outputs": [],
   "source": [
    "headers = {'User-Agent' : 'mozilla/5.0', 'referer' : 'http://naver.com'}\n",
    "\n",
    "sc = SearchCrawler(root = file_dir_path + '/search', verbose = True, \\\n",
    "                   debug = False, comments = False)"
   ]
  },
  {
   "cell_type": "code",
   "execution_count": 4,
   "id": "87564603-e789-42d8-aac4-60dd1641cee4",
   "metadata": {
    "tags": []
   },
   "outputs": [
    {
     "name": "stdout",
     "output_type": "stream",
     "text": [
      "Search From https://search.naver.com/search.naver?where=news&query=%EB%8F%84%EC%BF%84%EC%98%AC%EB%A6%BC%ED%94%BD+%EC%95%BC%EA%B5%AC&sm=tab_opt&sort=1&photo=0&field=0&reporter_article=&pd=3&ds=2021.07.23&de=2021.07.23\n",
      "Total Article: 22 pages (2021-07-23 ~ 2021-07-23, 도쿄올림픽 야구)\n",
      "  .. extract urls: page= 0, #urls= 1\n",
      "  .. extract urls: page= 5, #urls= 20\n",
      "  .. extract urls: page= 10, #urls= 44\n",
      "  .. extract urls: page= 15, #urls= 67\n",
      "  .. extract urls: page= 20, #urls= 83\n",
      "  .. extract urls: page= 21, #urls= 89\n",
      "  .. search crawler saved 89 articles in 89 on 20210723\n",
      "\n",
      "\n",
      "Search Crawling For Query [도쿄올림픽 야구] Time Between [2021-07-23 00:00:00] ~ [2021-07-23 00:00:00] Finished\n"
     ]
    },
    {
     "data": {
      "text/plain": [
       "True"
      ]
     },
     "execution_count": 4,
     "metadata": {},
     "output_type": "execute_result"
    }
   ],
   "source": [
    "sc.search(\"도쿄올림픽 야구\", \"2021-07-23\")"
   ]
  },
  {
   "cell_type": "markdown",
   "id": "cd6ec547-ee15-4e30-b7a0-83f9bf56bfb7",
   "metadata": {},
   "source": [
    "### 아래 공간은 테스트용"
   ]
  },
  {
   "cell_type": "code",
   "execution_count": 11,
   "id": "d146d899-9e01-4230-a1d5-d40074c8c043",
   "metadata": {},
   "outputs": [],
   "source": [
    "import requests\n",
    "from bs4 import BeautifulSoup\n",
    "\n",
    "def get_soup(url):\n",
    "    try:\n",
    "        response = requests.get(url)\n",
    "        soup = BeautifulSoup(response.text, 'lxml')\n",
    "        return soup\n",
    "    except Exception as e:\n",
    "        raise ValueError('failed in util.getDocument(), %s' % str(e))\n",
    "    return None\n",
    "\n",
    "s = get_soup(\"https://search.naver.com/search.naver?where=news&sm=tab_pge&query=%EB%8F%84%EC%BF%84%EC%98%AC%EB%A6%BC%ED%94%BD%20%EC%95%BC%EA%B5%AC&sort=1&photo=0&field=0&pd=3&ds=2021.07.23&de=2021.07.23&mynews=0&office_type=0&office_section_code=0&news_office_checked=&nso=so:dd,p:from20210723to20210723,a:all&start=31\")"
   ]
  },
  {
   "cell_type": "code",
   "execution_count": 19,
   "id": "d0dd2a04-5e63-48fe-b274-03478947aecb",
   "metadata": {},
   "outputs": [
    {
     "data": {
      "text/plain": [
       "[<a class=\"info\" href=\"https://news.naver.com/main/read.naver?mode=LSD&amp;mid=sec&amp;sid1=102&amp;oid=052&amp;aid=0001618183\" onclick=\"return goOtherCR(this, 'a=nws*e.nav&amp;r=31&amp;i=880000AF_000000000000000001618183&amp;u='+urlencode(this.href));\" target=\"_blank\">네이버뉴스</a>,\n",
       " <a class=\"info\" href=\"https://news.naver.com/main/read.naver?mode=LSD&amp;mid=sec&amp;sid1=102&amp;oid=008&amp;aid=0004620986\" onclick=\"return goOtherCR(this, 'a=nws*e.nav&amp;r=32&amp;i=880000C2_000000000000000004620986&amp;u='+urlencode(this.href));\" target=\"_blank\">네이버뉴스</a>,\n",
       " <a class=\"info\" href=\"https://news.naver.com/main/read.naver?mode=LSD&amp;mid=sec&amp;sid1=104&amp;oid=018&amp;aid=0004992888\" onclick=\"return goOtherCR(this, 'a=nws*j.nav&amp;r=34&amp;i=880000E7_000000000000000004992888&amp;u='+urlencode(this.href));\" target=\"_blank\">네이버뉴스</a>,\n",
       " <a class=\"info\" href=\"https://news.naver.com/main/read.naver?mode=LSD&amp;mid=sec&amp;sid1=101&amp;oid=014&amp;aid=0004680228\" onclick=\"return goOtherCR(this, 'a=nws*e.nav&amp;r=37&amp;i=880000FF_000000000000000004680228&amp;u='+urlencode(this.href));\" target=\"_blank\">네이버뉴스</a>,\n",
       " <a class=\"info\" href=\"https://news.naver.com/main/read.naver?mode=LSD&amp;mid=sec&amp;sid1=101&amp;oid=030&amp;aid=0002959457\" onclick=\"return goOtherCR(this, 'a=nws*e.nav&amp;r=39&amp;i=880000EA_000000000000000002959457&amp;u='+urlencode(this.href));\" target=\"_blank\">네이버뉴스</a>]"
      ]
     },
     "execution_count": 19,
     "metadata": {},
     "output_type": "execute_result"
    }
   ],
   "source": [
    "a = s.select('div[class=api_noresult_wrap]')\n",
    "b = s.select('div[class=api_sc_page_wrap] div[class^=sc_page]')\n",
    "c = s.select('ul[class=list_news] div[class=news_info]')\n",
    "d = s.select('ul[class=list_news]')[0]\n",
    "len(c)\n",
    "d.select('a[href^=\"https://news.naver.com/main/read.naver?\"]')"
   ]
  },
  {
   "cell_type": "code",
   "execution_count": 8,
   "id": "1d29aee5-3290-4f19-a0f8-a7e532e6a7cc",
   "metadata": {},
   "outputs": [],
   "source": [
    "if len(a) :\n",
    "    print(\"y\")\n",
    "else : \n",
    "    print(\"n\")"
   ]
  },
  {
   "cell_type": "code",
   "execution_count": 2,
   "id": "50c38daf-e23a-4a32-8ea9-74e3226ae4eb",
   "metadata": {},
   "outputs": [
    {
     "ename": "ModuleNotFoundError",
     "evalue": "No module named 'search_crawler'",
     "output_type": "error",
     "traceback": [
      "\u001b[0;31m---------------------------------------------------------------------------\u001b[0m",
      "\u001b[0;31mModuleNotFoundError\u001b[0m                       Traceback (most recent call last)",
      "\u001b[0;32m/var/folders/nb/n8_ktznx1fzdn8kyqtfgy1w40000gn/T/ipykernel_11803/2788578476.py\u001b[0m in \u001b[0;36m<module>\u001b[0;34m\u001b[0m\n\u001b[0;32m----> 1\u001b[0;31m \u001b[0;32mfrom\u001b[0m \u001b[0msearch_crawler\u001b[0m \u001b[0;32mimport\u001b[0m \u001b[0;34m*\u001b[0m\u001b[0;34m\u001b[0m\u001b[0;34m\u001b[0m\u001b[0m\n\u001b[0m\u001b[1;32m      2\u001b[0m \u001b[0;34m\u001b[0m\u001b[0m\n\u001b[1;32m      3\u001b[0m \u001b[0;31m#s = SearchCrawler()\u001b[0m\u001b[0;34m\u001b[0m\u001b[0;34m\u001b[0m\u001b[0;34m\u001b[0m\u001b[0m\n\u001b[1;32m      4\u001b[0m \u001b[0;31m#s.search(\"도쿄올림픽\", \"2021-07-21\")\u001b[0m\u001b[0;34m\u001b[0m\u001b[0;34m\u001b[0m\u001b[0;34m\u001b[0m\u001b[0m\n\u001b[1;32m      5\u001b[0m \u001b[0;31m#pip install lxml\u001b[0m\u001b[0;34m\u001b[0m\u001b[0;34m\u001b[0m\u001b[0;34m\u001b[0m\u001b[0m\n",
      "\u001b[0;31mModuleNotFoundError\u001b[0m: No module named 'search_crawler'"
     ]
    }
   ],
   "source": [
    "from search_crawler import *\n",
    "\n",
    "#s = SearchCrawler()\n",
    "#s.search(\"도쿄올림픽\", \"2021-07-21\")\n",
    "#pip install lxml\n",
    "#get_article_urls(\"도쿄올림픽\", \"2021-07-20\")"
   ]
  },
  {
   "cell_type": "code",
   "execution_count": 20,
   "id": "5610c6fa-3585-4cbc-8019-c9ae6a19b048",
   "metadata": {},
   "outputs": [
    {
     "data": {
      "text/plain": [
       "{'title': '54일 만에 최고 확진자…코로나와 먼저 싸우는 도쿄올림픽',\n",
       " 'writtenTime': '기사입력 2021.07.20. 오후 11:48',\n",
       " 'contentHtml': '<div class=\"news_end\" id=\"newsEndContents\">\\n<strong class=\"media_end_summary\">올림픽 개막이 사흘 앞인데 코로나 급증…신규 확진 3천758명<br/>도쿄서 일주일 전보다 67.1％ 증가, 대회 관계자 확진도 67명</strong><span class=\"end_photo_org\"><img alt=\"\" src=\"https://imgnews.pstatic.net/image/445/2021/07/20/0000026205_001_20210720234813372.jpg?type=w647\"/><em class=\"img_desc\">도쿄올림픽 개막식을 사흘 앞둔 20일 오후 일본 도쿄만 해상에 설치된 오륜 조형물에 조명이 밝혀져 있다. [도쿄 로이터=연합뉴스]</em></span><br/><br/>[MHN스포츠 이규원 기자] 금메달을 놓고 상대팀이나 선수와 싸우기 이전에 코로나19와 먼저 싸워야하는 형국이 됐다.<br/><br/>도쿄올림픽 개막식이 사흘 앞으로 다가온 가운데 일본에서 신종 코로나바이러스 감염증(코로나19) 확산 속도는 가팔라지고 있다.<br/><br/>20일 현지 공영방송 NHK에 따르면 이날 일본의 코로나19 확진자는 오후 6시 15분까지 3천758명이 새로 파악됐다.<br/><br/>이에 따라 일본의 누적 확진자는 84만8천297명으로 늘었다.<br/><br/>사망자는 20명 증가해 1만5천95명이 됐다.<br/><br/>20일 파악된 신규 확진자는 일주일 전보다 1천373명(57.6％) 많은 수준이다.<br/><br/>올해 5월 27일 4천136명을 기록한 후 54일 만에 가장 많았다.<br/><br/>개최지 도쿄(東京)의 상황도 계속 심각해지고 있다.<br/><br/>도쿄에서는 이날 1천387명의 신규 확진자가 보고됐다. 일주일 전보다 557명(67.1％) 많았다.<br/><br/>도쿄 올림픽·패럴림픽 조직위원회에 따르면 대회 관계자 중 확진 판정을 받은 이들은 전날보다 9명 늘어나 20일 기준 67명이 됐다.<br/><br/>21일에는 이번 대회의 첫 게임인 일본과 호주의 소프트볼 경기가 후쿠시마(福島)현 아즈마 구장에서 오전 9시에 무관중으로 실시되며 개막식은 도쿄 국립경기장에서 23일 열린다.<br/><br/>\\n<p class=\"source\"><b>기사제공</b> MHN스포츠</p>\\n<!-- /* 기자 카드 + 본문 내 기자 정보 -->\\n<div class=\"reporter_area\">\\n<div class=\"reporter\">\\n<div class=\"reporter_profile\">\\n<div class=\"link_press\">\\n<div class=\"press\"><img alt=\"MHN스포츠\" class=\"press_img\" height=\"20\" onerror=\"$(this).parent().hide();\" src=\" https://mimgnews.pstatic.net/image/upload/office_logo/445/2021/02/03/logo_445_6_20210203183512.png \" title=\"\"/></div>\\n<div class=\"name\">이규원</div>\\n</div>\\n</div>\\n<p class=\"email\">green8861@mhnew.com</p>\\n</div>\\n<div class=\"reporter _type_journalist _JOURNALIST_75126\">\\n<div class=\"reporter_profile\">\\n<div class=\"profile_info\">\\n<a class=\"link_press\" href=\"https://media.naver.com/journalist/445/75126\" onclick=\"clickcr(this, \\'art.more\\', \\'\\', \\'\\', event);\">\\n<div class=\"press\"><img alt=\"MHN스포츠\" class=\"press_img\" height=\"20\" onerror=\"$(this).parent().hide();\" src=\" https://mimgnews.pstatic.net/image/upload/office_logo/445/2021/02/03/logo_445_6_20210203183512.png \" title=\"\"/></div>\\n<div class=\"name\">이규원 기자</div>\\n</a>\\n<div class=\"subscribe\">\\n<button class=\"button_subscribe _reporter_subscribe_btn\" data-journalist-id=\"75126\" type=\"button\">구독</button>\\n<!-- <button type=\"button\" class=\"button_subscribe is_on\">구독중</button> -->\\n<!-- [D] 레이어 토글 -->\\n<div class=\"subscribe_layer\" style=\"display: none\">\\n<p><strong>이규원 기자의 구독을 <br/>취소하시겠습니까?</strong><br/>구독에서 해당 기자의 기사가 제외됩니다.</p>\\n<div class=\"button_group\">\\n<button class=\"button_layer _btn_y\" data-journalist-id=\"75126\" type=\"button\">예</button>\\n<button class=\"button_layer _btn_n\" type=\"button\">아니오</button>\\n</div>\\n<button class=\"button_layer_close\" type=\"button\"><span class=\"blind\">닫기</span></button>\\n</div>\\n</div>\\n</div>\\n<div class=\"subscribe_info\">\\n<dl class=\"subscribe_info_list\">\\n<div class=\"subscribe_info_item\" style=\"display:none\">\\n<dt>구독자</dt>\\n<dd class=\"_reporter_subscribe_count\">-</dd>\\n</div>\\n<div class=\"subscribe_info_item _reactionModule\" data-ccounttype=\"period\" data-cid=\"75126\" data-sid=\"JOURNALIST\" style=\"display:none\">\\n<dt>응원수</dt>\\n<dd class=\"_reporter_cheer_count\">-</dd>\\n</div>\\n</dl>\\n</div>\\n</div>\\n<div class=\"reporter_morenews\">\\n<ul class=\"morenews_list\">\\n<li class=\"morenews_item\">\\n<a class=\"link_morenews\" href=\"/news.nhn?oid=445&amp;aid=0000026326\" onclick=\"clickcr(this, \\'art.bestart\\', \\'\\', \\'\\', event);\">하루에 3타점…김하성 \\'프로는 상황을 탓하지 않는다!\\'</a>\\n</li>\\n<li class=\"morenews_item\">\\n<a class=\"link_morenews\" href=\"/news.nhn?oid=445&amp;aid=0000026078\" onclick=\"clickcr(this, \\'art.bestart\\', \\'\\', \\'\\', event);\">\"골프 인생 최고의 순간\" 박인비, 사상 첫 2회 연속 우승 도전</a>\\n</li>\\n</ul>\\n</div>\\n</div>\\n<div class=\"reporter_recommend\" style=\"display:none\">\\n</div>\\n</div>\\n<!-- 카피라이트 배너 -->\\n<div class=\"copyright\">\\n<p>Copyright ⓒ MHN스포츠. All rights reserved. 무단 전재 및 재배포 금지.</p>\\n</div>\\n<!-- 기사 분류 -->\\n<div class=\"categorize\" id=\"_article_section_guide\">\\n<a aria-describedby=\"wa_categorize_tooltip\" class=\"btn_guide_categorize\" href=\"#wa_categorize_tooltip\" role=\"button\">기사 섹션 분류 가이드</a>\\n<div class=\"guide_categorize\" style=\"display: none;\">\\n<em class=\"guide_title\">기사 섹션 분류 안내</em>\\n<p class=\"guide_text\" id=\"wa_categorize_tooltip\" role=\"tooltip\">스포츠 기사 섹션(종목) 정보는 언론사 분류와 기술 기반의 자동 분류 시스템을 따르고 있습니다. 오분류에 대한 건은 네이버스포츠로 제보 부탁드립니다.</p>\\n<a class=\"btn_report\" href=\"https://help.naver.com/support/contents/contents.nhn?serviceNo=1001&amp;categoryNo=21210\" target=\"_blank\" title=\"새창\">오분류 제보하기</a>\\n<button class=\"btn_close\" type=\"button\"><span class=\"blind\">가이드 닫기</span></button>\\n</div>\\n</div>\\n<!-- 언론사 프로모션 링크 -->\\n<div class=\"promotion\">\\n<ul class=\"promotion_list\">\\n<li class=\"promotion_item\">\\n<a class=\"link_promotion\" href=\"http://naver.me/xJNWRpJi\">다양한 장르\\'\\'MHN스포츠\\'\\'네이버 포스트에서</a>\\n</li>\\n<li class=\"promotion_item\">\\n<a class=\"link_promotion\" href=\"https://www.mhnse.com/\">#스포츠 #패션 #뷰티 #엔터 거긴 어디? MHN스포츠</a>\\n</li>\\n</ul>\\n</div>\\n</div>',\n",
       " 'content': '올림픽 개막이 사흘 앞인데 코로나 급증…신규 확진 3천758명\\n도쿄서 일주일 전보다 67.1％ 증가, 대회 관계자 확진도 67명\\n[MHN스포츠 이규원 기자] 금메달을 놓고 상대팀이나 선수와 싸우기 이전에 코로나19와 먼저 싸워야하는 형국이 됐다.\\n도쿄올림픽 개막식이 사흘 앞으로 다가온 가운데 일본에서 신종 코로나바이러스 감염증(코로나19) 확산 속도는 가팔라지고 있다.\\n20일 현지 공영방송 NHK에 따르면 이날 일본의 코로나19 확진자는 오후 6시 15분까지 3천758명이 새로 파악됐다.\\n이에 따라 일본의 누적 확진자는 84만8천297명으로 늘었다.\\n사망자는 20명 증가해 1만5천95명이 됐다.\\n20일 파악된 신규 확진자는 일주일 전보다 1천373명(57.6％) 많은 수준이다.\\n올해 5월 27일 4천136명을 기록한 후 54일 만에 가장 많았다.\\n개최지 도쿄(東京)의 상황도 계속 심각해지고 있다.\\n도쿄에서는 이날 1천387명의 신규 확진자가 보고됐다. 일주일 전보다 557명(67.1％) 많았다.\\n도쿄 올림픽·패럴림픽 조직위원회에 따르면 대회 관계자 중 확진 판정을 받은 이들은 전날보다 9명 늘어나 20일 기준 67명이 됐다.\\n21일에는 이번 대회의 첫 게임인 일본과 호주의 소프트볼 경기가 후쿠시마(福島)현 아즈마 구장에서 오전 9시에 무관중으로 실시되며 개막식은 도쿄 국립경기장에서 23일 열린다.\\n기사제공\\nMHN스포츠\\n이규원\\ngreen8861@mhnew.com',\n",
       " 'oid': '445',\n",
       " 'aid': '0000026205',\n",
       " 'url': 'https://sports.news.naver.com/news.nhn?oid=445&aid=0000026205',\n",
       " 'crawlerVersion': '0.0',\n",
       " 'crawledTime': '2021-07-23 16:43:46.962429'}"
      ]
     },
     "execution_count": 20,
     "metadata": {},
     "output_type": "execute_result"
    }
   ],
   "source": [
    "test_scrap = scrap(\"https://sports.news.naver.com/news.nhn?oid=445&aid=0000026205\")\n",
    "test_scrap"
   ]
  },
  {
   "cell_type": "code",
   "execution_count": 19,
   "id": "d33a539b-77a8-46c5-9be5-03ec6bd81ec9",
   "metadata": {},
   "outputs": [
    {
     "data": {
      "text/plain": [
       "<Response [200]>"
      ]
     },
     "execution_count": 19,
     "metadata": {},
     "output_type": "execute_result"
    }
   ],
   "source": [
    "import requests\n",
    "requests.get(\"https://news.naver.com/main/read.naver?mode=LSD&mid=sec&sid1=102&oid=001&aid=0012546097\",\\\n",
    "            headers = headers)"
   ]
  },
  {
   "cell_type": "code",
   "execution_count": 22,
   "id": "ca0c3510-c06b-479b-8480-dd687da1ec3a",
   "metadata": {},
   "outputs": [
    {
     "data": {
      "text/plain": [
       "<Response [200]>"
      ]
     },
     "execution_count": 22,
     "metadata": {},
     "output_type": "execute_result"
    }
   ],
   "source": [
    "requests.get(\"https://sports.news.naver.com/news.nhn?oid=445&aid=0000026205\", headers = headers)"
   ]
  },
  {
   "cell_type": "code",
   "execution_count": null,
   "id": "c38d9ff8-9ecc-48cf-ae32-32f2359f9899",
   "metadata": {},
   "outputs": [],
   "source": []
  }
 ],
 "metadata": {
  "kernelspec": {
   "display_name": "Python 3 (ipykernel)",
   "language": "python",
   "name": "python3"
  },
  "language_info": {
   "codemirror_mode": {
    "name": "ipython",
    "version": 3
   },
   "file_extension": ".py",
   "mimetype": "text/x-python",
   "name": "python",
   "nbconvert_exporter": "python",
   "pygments_lexer": "ipython3",
   "version": "3.9.6"
  }
 },
 "nbformat": 4,
 "nbformat_minor": 5
}
